{
 "cells": [
  {
   "cell_type": "code",
   "execution_count": 3,
   "metadata": {},
   "outputs": [
    {
     "name": "stdout",
     "output_type": "stream",
     "text": [
      "Hello Python 101\n"
     ]
    }
   ],
   "source": [
    "#your first program\n",
    "#imprime a frase Hello Python 101\n",
    "print(\"Hello Python 101\")"
   ]
  },
  {
   "cell_type": "code",
   "execution_count": 2,
   "metadata": {},
   "outputs": [
    {
     "name": "stdout",
     "output_type": "stream",
     "text": [
      "Hello\n",
      "World\n"
     ]
    }
   ],
   "source": [
    "#imprime em duas linhas \\n significa new line\n",
    "print(\"Hello\\nWorld\")"
   ]
  },
  {
   "cell_type": "code",
   "execution_count": 5,
   "metadata": {},
   "outputs": [
    {
     "data": {
      "text/plain": [
       "str"
      ]
     },
     "execution_count": 5,
     "metadata": {},
     "output_type": "execute_result"
    }
   ],
   "source": [
    "#types\n",
    "#comando para descobrir se uma variável é tipo int, float ou str\n",
    "type(\"Hello World\")"
   ]
  },
  {
   "cell_type": "code",
   "execution_count": 6,
   "metadata": {},
   "outputs": [
    {
     "data": {
      "text/plain": [
       "True"
      ]
     },
     "execution_count": 6,
     "metadata": {},
     "output_type": "execute_result"
    }
   ],
   "source": [
    "#comando para transformar um variável em bool/boleano\n",
    "bool(\"1\")"
   ]
  },
  {
   "cell_type": "code",
   "execution_count": 8,
   "metadata": {},
   "outputs": [
    {
     "data": {
      "text/plain": [
       "1"
      ]
     },
     "execution_count": 8,
     "metadata": {},
     "output_type": "execute_result"
    }
   ],
   "source": [
    "#comando para conveter uma variável em int\n",
    "int(1.1)\n",
    "#se tentar conveter uma letra para int receberá uma mensagem de erro"
   ]
  },
  {
   "cell_type": "code",
   "execution_count": 10,
   "metadata": {},
   "outputs": [
    {
     "data": {
      "text/plain": [
       "2.0"
      ]
     },
     "execution_count": 10,
     "metadata": {},
     "output_type": "execute_result"
    }
   ],
   "source": [
    "#comando para conveter uma variável em float\n",
    "float(2)"
   ]
  },
  {
   "cell_type": "code",
   "execution_count": 11,
   "metadata": {},
   "outputs": [
    {
     "data": {
      "text/plain": [
       "'3'"
      ]
     },
     "execution_count": 11,
     "metadata": {},
     "output_type": "execute_result"
    }
   ],
   "source": [
    "#comando para conveter uma variável em str\n",
    "str(3)"
   ]
  },
  {
   "cell_type": "code",
   "execution_count": 18,
   "metadata": {},
   "outputs": [
    {
     "data": {
      "text/plain": [
       "1"
      ]
     },
     "execution_count": 18,
     "metadata": {},
     "output_type": "execute_result"
    }
   ],
   "source": [
    "#comando para conveter true em 1 e false em 0\n",
    "int(True)\n",
    "int(False)"
   ]
  },
  {
   "cell_type": "code",
   "execution_count": 1,
   "metadata": {},
   "outputs": [
    {
     "data": {
      "text/plain": [
       "34"
      ]
     },
     "execution_count": 1,
     "metadata": {},
     "output_type": "execute_result"
    }
   ],
   "source": [
    "#expressions and variable\n",
    "#expressions + para soma, - para subtração, * para multiplicação, / para divisão, // para divisão integral\n",
    "#em uma expressão primeiro resolve * e depois +\n",
    "30+2*2\n",
    "2*2+30"
   ]
  },
  {
   "cell_type": "code",
   "execution_count": 2,
   "metadata": {},
   "outputs": [
    {
     "data": {
      "text/plain": [
       "14"
      ]
     },
     "execution_count": 2,
     "metadata": {},
     "output_type": "execute_result"
    }
   ],
   "source": [
    "#expressões em parenteses são efetuadas primeiro\n",
    "(3+4)*2"
   ]
  },
  {
   "cell_type": "code",
   "execution_count": 10,
   "metadata": {},
   "outputs": [
    {
     "name": "stdout",
     "output_type": "stream",
     "text": [
      "10\n"
     ]
    }
   ],
   "source": [
    "#atribuindo valores as variáveis\n",
    "my_variable = 1\n",
    "\n",
    "#indicando valores das variáveis\n",
    "my_variable:1\n",
    "    \n",
    "#atribuindo novo valor a variável\n",
    "my_variable = 10\n",
    "print(my_variable)"
   ]
  },
  {
   "cell_type": "code",
   "execution_count": 18,
   "metadata": {},
   "outputs": [
    {
     "name": "stdout",
     "output_type": "stream",
     "text": [
      "160\n",
      "2.6666666666666665\n"
     ]
    }
   ],
   "source": [
    "#podemos atribuir valores de expressões em uma variável\n",
    "x = 43+60+16+41\n",
    "print(x)\n",
    "#podemos incluir variáveis dentro de outras expressões\n",
    "y=x/60\n",
    "print(y)"
   ]
  },
  {
   "cell_type": "code",
   "execution_count": 21,
   "metadata": {},
   "outputs": [
    {
     "name": "stdout",
     "output_type": "stream",
     "text": [
      "142\n",
      "2.3666666666666667\n"
     ]
    }
   ],
   "source": [
    "#exemplo\n",
    "#converter o número de minuntos em horas\n",
    "total_min = 43+42+57\n",
    "print(total_min)\n",
    "\n",
    "total_hr = total_min/60\n",
    "print(total_hr)"
   ]
  },
  {
   "cell_type": "code",
   "execution_count": 23,
   "metadata": {},
   "outputs": [
    {
     "name": "stdout",
     "output_type": "stream",
     "text": [
      "Carla\n",
      "Wosniak\n"
     ]
    }
   ],
   "source": [
    "#string operations\n",
    "#pode-se usar \"ou ' para strings\n",
    "name_a = \"Carla\"\n",
    "print(name_a)\n",
    "name_b = 'Wosniak'\n",
    "print(name_b)"
   ]
  },
  {
   "cell_type": "code",
   "execution_count": 26,
   "metadata": {},
   "outputs": [
    {
     "name": "stdout",
     "output_type": "stream",
     "text": [
      "1 2 3 & * @\n"
     ]
    }
   ],
   "source": [
    "#uma string pode conter números e/ou caracteres especiais\n",
    "name_c = \"1 2 3 & * @\" \n",
    "print(name_c)"
   ]
  },
  {
   "cell_type": "code",
   "execution_count": 39,
   "metadata": {},
   "outputs": [
    {
     "name": "stdout",
     "output_type": "stream",
     "text": [
      "r\n",
      "W\n",
      "k\n",
      "Car\n",
      "Cra\n",
      "Wsi\n"
     ]
    }
   ],
   "source": [
    "#pode-se atribuir um indice a um elemento de uma string\n",
    "print(name_a[2])\n",
    "print(name_b[0])\n",
    "\n",
    "#pode-se atribuir um indice negativo a um elemento de uma string\n",
    "print(name_b[-1])\n",
    "\n",
    "#podemos lingar uma string a outra variável\n",
    "print(name_a[0:3])\n",
    "\n",
    "#podemos selecionar todas as letras pares\n",
    "print(name_a[::2])\n",
    "\n",
    "#podemos selecionar todas as letras pares dentro de um período\n",
    "print(name_b[0:5:2])"
   ]
  },
  {
   "cell_type": "code",
   "execution_count": 1,
   "metadata": {},
   "outputs": [
    {
     "data": {
      "text/plain": [
       "13"
      ]
     },
     "execution_count": 1,
     "metadata": {},
     "output_type": "execute_result"
    }
   ],
   "source": [
    "#contar o número de elementos na string - espaço também entra na conta\n",
    "len(\"Carla Wosniak\")"
   ]
  },
  {
   "cell_type": "code",
   "execution_count": 14,
   "metadata": {},
   "outputs": [
    {
     "name": "stdout",
     "output_type": "stream",
     "text": [
      "Carla Wosniak tem 30 anos\n",
      "Carla Wosniak Carla Wosniak Carla Wosniak \n"
     ]
    }
   ],
   "source": [
    "#operações com strings\n",
    "name = \"Carla Wosniak \"\n",
    "quote = name+\"tem 30 anos\"\n",
    "print(quote)\n",
    "\n",
    "mult_name = 3*name\n",
    "print(mult_name)"
   ]
  },
  {
   "cell_type": "code",
   "execution_count": 15,
   "metadata": {},
   "outputs": [
    {
     "name": "stdout",
     "output_type": "stream",
     "text": [
      "Carla Wosniak \t tem 30 anos\n"
     ]
    }
   ],
   "source": [
    "#tab é respresentado por \\t\n",
    "tab = \"Carla Wosniak \\t tem 30 anos\"\n",
    "print(tab)"
   ]
  },
  {
   "cell_type": "code",
   "execution_count": 24,
   "metadata": {},
   "outputs": [
    {
     "name": "stdout",
     "output_type": "stream",
     "text": [
      "THRILLER IS THE SIXTH STUDIO ALBUM\n"
     ]
    }
   ],
   "source": [
    "#comando upper transforma todas os elementos da string em letras maiusculas \n",
    "A=\"Thriller is the sixth studio album\"\n",
    "B=A.upper()\n",
    "print(B)"
   ]
  },
  {
   "cell_type": "code",
   "execution_count": 25,
   "metadata": {},
   "outputs": [
    {
     "name": "stdout",
     "output_type": "stream",
     "text": [
      "Janet Jackson is the best\n"
     ]
    }
   ],
   "source": [
    "#substitui uma elemento/palavra da string por outra\n",
    "A='Michael Jackson is the best'\n",
    "B=A.replace('Michael','Janet')\n",
    "print(B)"
   ]
  },
  {
   "cell_type": "code",
   "execution_count": null,
   "metadata": {},
   "outputs": [],
   "source": []
  }
 ],
 "metadata": {
  "kernelspec": {
   "display_name": "Python 3",
   "language": "python",
   "name": "python3"
  },
  "language_info": {
   "codemirror_mode": {
    "name": "ipython",
    "version": 3
   },
   "file_extension": ".py",
   "mimetype": "text/x-python",
   "name": "python",
   "nbconvert_exporter": "python",
   "pygments_lexer": "ipython3",
   "version": "3.7.6"
  }
 },
 "nbformat": 4,
 "nbformat_minor": 2
}
