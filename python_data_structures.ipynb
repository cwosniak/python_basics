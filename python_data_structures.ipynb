{
 "cells": [
  {
   "cell_type": "code",
   "execution_count": 1,
   "metadata": {},
   "outputs": [
    {
     "data": {
      "text/plain": [
       "tuple"
      ]
     },
     "execution_count": 1,
     "metadata": {},
     "output_type": "execute_result"
    }
   ],
   "source": [
    "#listas e tuplas\n",
    "\n",
    "#na matemática tuplas é uma sequência finita (também chamada de lista ordenada) de objetos\n",
    "#tuplas são escritas como elementos separados por vírgulas entre parênteses\n",
    "\n",
    "ratings=(10,9,6,10,8,9,6,2)\n",
    "\n",
    "#tuplas podem ser do tipo str, int, float\n",
    "\n",
    "tuple1 = ('disco',10,1.2)\n",
    "\n",
    "#o tipo da variável tupla é tuple\n",
    "\n",
    "type(tuple1)\n"
   ]
  },
  {
   "cell_type": "code",
   "execution_count": 3,
   "metadata": {},
   "outputs": [
    {
     "data": {
      "text/plain": [
       "1.2"
      ]
     },
     "execution_count": 3,
     "metadata": {},
     "output_type": "execute_result"
    }
   ],
   "source": [
    "#cada elemento de uma tupla pode ser acessado através de um índice.\n",
    "tuple1 = ('disco',10,1.2)\n",
    "tuple1[0] #'disco'\n",
    "tuple1[1] #10\n",
    "tuple1[2] #1.2"
   ]
  },
  {
   "cell_type": "code",
   "execution_count": 4,
   "metadata": {},
   "outputs": [
    {
     "name": "stdout",
     "output_type": "stream",
     "text": [
      "('disco', 10, 1.2, 'hard rock', 10)\n"
     ]
    }
   ],
   "source": [
    "#Podemos concatenar ou combinar tuplas adicionando-as.\n",
    "tuple1 = ('disco',10,1.2)\n",
    "tuple2 = tuple1 + (\"hard rock\", 10)\n",
    "\n",
    "#O resultado é o seguinte com o seguinte índice.\n",
    "print(tuple2)"
   ]
  },
  {
   "cell_type": "code",
   "execution_count": 5,
   "metadata": {},
   "outputs": [
    {
     "data": {
      "text/plain": [
       "('disco', 10, 1.2)"
      ]
     },
     "execution_count": 5,
     "metadata": {},
     "output_type": "execute_result"
    }
   ],
   "source": [
    "#Se gostaríamos de ver elementos específicos de uma tupla, também poderíamos cortar tuplas.\n",
    "tuple2 = ('disco', 10, 1.2, 'hard rock', 10)\n",
    "#ver os 3 primeiros elementos da tuple2\n",
    "tuple2[0:3]"
   ]
  },
  {
   "cell_type": "code",
   "execution_count": 6,
   "metadata": {},
   "outputs": [
    {
     "data": {
      "text/plain": [
       "('hard rock', 10)"
      ]
     },
     "execution_count": 6,
     "metadata": {},
     "output_type": "execute_result"
    }
   ],
   "source": [
    "#ver os 2 últimos elementos da tuple2\n",
    "tuple2 = ('disco', 10, 1.2, 'hard rock', 10)\n",
    "tuple2[3:5]"
   ]
  },
  {
   "cell_type": "code",
   "execution_count": 7,
   "metadata": {},
   "outputs": [
    {
     "data": {
      "text/plain": [
       "5"
      ]
     },
     "execution_count": 7,
     "metadata": {},
     "output_type": "execute_result"
    }
   ],
   "source": [
    "#saber o número de elementos de uma tupla\n",
    "tuple2 = ('disco', 10, 1.2, 'hard rock', 10)\n",
    "len(tuple2)"
   ]
  },
  {
   "cell_type": "code",
   "execution_count": 9,
   "metadata": {},
   "outputs": [
    {
     "name": "stdout",
     "output_type": "stream",
     "text": [
      "[2, 6, 6, 8, 9, 9, 10, 10]\n"
     ]
    }
   ],
   "source": [
    "#tuplas são imutáveis, não podemos mudá-las, para isso é necessário criar uma nova tupla\n",
    "#por exemplo, se quisessemos organizar a tupla ratings, uma nova tupla teria que ser criada a partir da tupla original\n",
    "ratings=(10,9,6,10,8,9,6,2)\n",
    "ratings_sorted=sorted(ratings)\n",
    "print(ratings_sorted)"
   ]
  },
  {
   "cell_type": "code",
   "execution_count": 17,
   "metadata": {},
   "outputs": [
    {
     "name": "stdout",
     "output_type": "stream",
     "text": [
      "(1, 2, ('pop', 'rock'), (3, 4), ('disco', (1, 2)))\n"
     ]
    }
   ],
   "source": [
    "#uma tupla pode conter outras tuplas\n",
    "#isso é chamado de aninhamento nesting\n",
    "nt=(1,2,(\"pop\", \"rock\"),(3,4),(\"disco\",(1,2)))\n",
    "print(nt)"
   ]
  },
  {
   "cell_type": "code",
   "execution_count": 18,
   "metadata": {},
   "outputs": [
    {
     "data": {
      "text/plain": [
       "('pop', 'rock')"
      ]
     },
     "execution_count": 18,
     "metadata": {},
     "output_type": "execute_result"
    }
   ],
   "source": [
    "#o indíce será uma tuple\n",
    "nt=(1,2,(\"pop\", \"rock\"),(3,4),(\"disco\",(1,2)))\n",
    "nt[2]"
   ]
  },
  {
   "cell_type": "code",
   "execution_count": 19,
   "metadata": {},
   "outputs": [
    {
     "data": {
      "text/plain": [
       "'rock'"
      ]
     },
     "execution_count": 19,
     "metadata": {},
     "output_type": "execute_result"
    }
   ],
   "source": [
    "#pode-se acessar um elemento de uma tupla contida em outra tupla\n",
    "nt=(1,2,(\"pop\", \"rock\"),(3,4),(\"disco\",(1,2)))\n",
    "nt[2][1]"
   ]
  },
  {
   "cell_type": "code",
   "execution_count": 20,
   "metadata": {},
   "outputs": [
    {
     "name": "stdout",
     "output_type": "stream",
     "text": [
      "['Michael Jackson', 10.1, 1982]\n"
     ]
    }
   ],
   "source": [
    "#listas também são sequências ordenada\n",
    "#listas são representadas por elementos seprados por vírgulas entre colchetes\n",
    "#listas são mutáveis\n",
    "#tuplas podem conter os tipo str, int, float\n",
    "lista=[\"Michael Jackson\", 10.1, 1982]\n",
    "print(lista)"
   ]
  },
  {
   "cell_type": "code",
   "execution_count": 22,
   "metadata": {},
   "outputs": [
    {
     "name": "stdout",
     "output_type": "stream",
     "text": [
      "['Michael Jackson', 10.1, 1982, [1, 2], ('A', 1)]\n"
     ]
    }
   ],
   "source": [
    "#tuplas e listas podem estar contidas em listas\n",
    "lista=[\"Michael Jackson\", 10.1, 1982, [1,2], ('A', 1)]\n",
    "print(lista)"
   ]
  },
  {
   "cell_type": "code",
   "execution_count": 24,
   "metadata": {},
   "outputs": [
    {
     "data": {
      "text/plain": [
       "'Michael Jackson'"
      ]
     },
     "execution_count": 24,
     "metadata": {},
     "output_type": "execute_result"
    }
   ],
   "source": [
    "#podemos acessar um elemento da lista por indices\n",
    "lista=[\"Michael Jackson\", 10.1, 1982, [1,2], ('A', 1)]\n",
    "lista[0]"
   ]
  },
  {
   "cell_type": "code",
   "execution_count": 25,
   "metadata": {},
   "outputs": [
    {
     "data": {
      "text/plain": [
       "[[1, 2], ('A', 1)]"
      ]
     },
     "execution_count": 25,
     "metadata": {},
     "output_type": "execute_result"
    }
   ],
   "source": [
    "#ver os 2 últimos elementos da lista\n",
    "lista=[\"Michael Jackson\", 10.1, 1982, [1,2], ('A', 1)]\n",
    "lista[3:5]"
   ]
  },
  {
   "cell_type": "code",
   "execution_count": 2,
   "metadata": {},
   "outputs": [
    {
     "name": "stdout",
     "output_type": "stream",
     "text": [
      "['Michael Jackson', 10.1, 1982, [1, 2], ('A', 1), 'pop', 10]\n"
     ]
    }
   ],
   "source": [
    "#podemos concatenar ou combinar listas \n",
    "lista=[\"Michael Jackson\", 10.1, 1982, [1,2], ('A', 1)]\n",
    "L1=lista+[\"pop\",10]\n",
    "print(L1)"
   ]
  },
  {
   "cell_type": "code",
   "execution_count": 6,
   "metadata": {},
   "outputs": [
    {
     "name": "stdout",
     "output_type": "stream",
     "text": [
      "['Michael Jackson', 10.1, 1982, 'pop', 10]\n"
     ]
    },
    {
     "data": {
      "text/plain": [
       "'pop'"
      ]
     },
     "execution_count": 6,
     "metadata": {},
     "output_type": "execute_result"
    }
   ],
   "source": [
    "#listas são mutáveis\n",
    "#função extend: adiciona uma lista atribundo um índice a cada elemento da nova lista adicionada\n",
    "L=[\"Michael Jackson\", 10.1, 1982]\n",
    "L.extend([\"pop\",10])\n",
    "print(L)\n",
    "\n",
    "L[3]"
   ]
  },
  {
   "cell_type": "code",
   "execution_count": 7,
   "metadata": {},
   "outputs": [
    {
     "name": "stdout",
     "output_type": "stream",
     "text": [
      "['Michael Jackson', 10.1, 1982, ['pop', 10]]\n"
     ]
    },
    {
     "data": {
      "text/plain": [
       "['pop', 10]"
      ]
     },
     "execution_count": 7,
     "metadata": {},
     "output_type": "execute_result"
    }
   ],
   "source": [
    "#função append: adiciona uma lista atribundo um índice para toda a nova lista adicionada\n",
    "L=[\"Michael Jackson\", 10.1, 1982]\n",
    "L.append([\"pop\",10])\n",
    "print(L)\n",
    "\n",
    "L[3]"
   ]
  },
  {
   "cell_type": "code",
   "execution_count": 8,
   "metadata": {},
   "outputs": [
    {
     "name": "stdout",
     "output_type": "stream",
     "text": [
      "['hard rock', 10, 1.2]\n"
     ]
    }
   ],
   "source": [
    "#podemos mudar os elementos da lista\n",
    "A=[\"disco\", 10, 1.2]\n",
    "A[0]=\"hard rock\"\n",
    "print(A)"
   ]
  },
  {
   "cell_type": "code",
   "execution_count": 9,
   "metadata": {},
   "outputs": [
    {
     "name": "stdout",
     "output_type": "stream",
     "text": [
      "[10, 1.2]\n"
     ]
    }
   ],
   "source": [
    "#podemos deletar/remover um item da lista\n",
    "A=[\"disco\", 10, 1.2]\n",
    "del(A[0])\n",
    "print(A)"
   ]
  },
  {
   "cell_type": "code",
   "execution_count": 10,
   "metadata": {},
   "outputs": [
    {
     "data": {
      "text/plain": [
       "['hard', 'rock']"
      ]
     },
     "execution_count": 10,
     "metadata": {},
     "output_type": "execute_result"
    }
   ],
   "source": [
    "#podemos converter uma string em uma lista\n",
    "#o comando split converte todo item de uma string separado por um espaço em um elemento de uma lista\n",
    "\"hard rock\".split()"
   ]
  },
  {
   "cell_type": "code",
   "execution_count": 11,
   "metadata": {},
   "outputs": [
    {
     "data": {
      "text/plain": [
       "['A', 'B', 'C', 'D']"
      ]
     },
     "execution_count": 11,
     "metadata": {},
     "output_type": "execute_result"
    }
   ],
   "source": [
    "#podemos usar a função split para separar strings com um caractere específico\n",
    "\"A,B,C,D\".split(\",\")"
   ]
  },
  {
   "cell_type": "code",
   "execution_count": 13,
   "metadata": {},
   "outputs": [
    {
     "name": "stdout",
     "output_type": "stream",
     "text": [
      "['banana', 10, 1.2]\n"
     ]
    }
   ],
   "source": [
    "#quando atribuimos uma lista a outra variável, e mudarmos um elemento na lista origem, a alteração será replicada na nova lista\n",
    "A=[\"hard rock\",10,1.2]\n",
    "B=A\n",
    "A[0]=\"banana\"\n",
    "print(B)"
   ]
  },
  {
   "cell_type": "code",
   "execution_count": 17,
   "metadata": {},
   "outputs": [
    {
     "name": "stdout",
     "output_type": "stream",
     "text": [
      "['hard rock', 10, 1.2]\n"
     ]
    }
   ],
   "source": [
    "#para clonar uma lista usa-se a seguinte função\n",
    "A=[\"hard rock\",10,1.2]\n",
    "B=A[:]\n",
    "#se mudarmos um elemento da lista A, a mudança não será replicada na lista B\n",
    "A[0]=\"banana\"\n",
    "print(B)"
   ]
  },
  {
   "cell_type": "code",
   "execution_count": null,
   "metadata": {},
   "outputs": [],
   "source": []
  }
 ],
 "metadata": {
  "kernelspec": {
   "display_name": "Python 3",
   "language": "python",
   "name": "python3"
  },
  "language_info": {
   "codemirror_mode": {
    "name": "ipython",
    "version": 3
   },
   "file_extension": ".py",
   "mimetype": "text/x-python",
   "name": "python",
   "nbconvert_exporter": "python",
   "pygments_lexer": "ipython3",
   "version": "3.7.6"
  }
 },
 "nbformat": 4,
 "nbformat_minor": 4
}
